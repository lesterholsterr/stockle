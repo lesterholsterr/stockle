{
 "cells": [
  {
   "cell_type": "code",
   "execution_count": 40,
   "id": "52c15e5e",
   "metadata": {},
   "outputs": [],
   "source": [
    "import pandas as pd"
   ]
  },
  {
   "cell_type": "code",
   "execution_count": 41,
   "id": "45ad191c",
   "metadata": {},
   "outputs": [
    {
     "data": {
      "text/plain": [
       "5850"
      ]
     },
     "execution_count": 41,
     "metadata": {},
     "output_type": "execute_result"
    }
   ],
   "source": [
    "tickers = pd.read_csv(\"ticker_list.csv\")[[\"Symbol\", \"Company Name\"]]\n",
    "tickers.shape[0]"
   ]
  },
  {
   "cell_type": "code",
   "execution_count": 42,
   "id": "ef6472d4",
   "metadata": {},
   "outputs": [
    {
     "data": {
      "text/plain": [
       "5814"
      ]
     },
     "execution_count": 42,
     "metadata": {},
     "output_type": "execute_result"
    }
   ],
   "source": [
    "dupe_indexes = []\n",
    "\n",
    "for i in range(1, tickers.shape[0]):\n",
    "    if tickers[\"Company Name\"][i] == tickers[\"Company Name\"][i - 1]:\n",
    "        # print(\"Duplicate: \", tickers[\"Symbol\"][i], \": \", tickers[\"Company Name\"][i])\n",
    "        dupe_indexes.append(i)\n",
    "\n",
    "dupe_indexes.reverse()\n",
    "\n",
    "for i in dupe_indexes:\n",
    "    tickers = tickers.drop(i)\n",
    "tickers.shape[0]\n"
   ]
  },
  {
   "cell_type": "code",
   "execution_count": 43,
   "id": "3db98b1e",
   "metadata": {},
   "outputs": [
    {
     "data": {
      "text/html": [
       "<div>\n",
       "<style scoped>\n",
       "    .dataframe tbody tr th:only-of-type {\n",
       "        vertical-align: middle;\n",
       "    }\n",
       "\n",
       "    .dataframe tbody tr th {\n",
       "        vertical-align: top;\n",
       "    }\n",
       "\n",
       "    .dataframe thead th {\n",
       "        text-align: right;\n",
       "    }\n",
       "</style>\n",
       "<table border=\"1\" class=\"dataframe\">\n",
       "  <thead>\n",
       "    <tr style=\"text-align: right;\">\n",
       "      <th></th>\n",
       "      <th>Company Name</th>\n",
       "    </tr>\n",
       "    <tr>\n",
       "      <th>Symbol</th>\n",
       "      <th></th>\n",
       "    </tr>\n",
       "  </thead>\n",
       "  <tbody>\n",
       "    <tr>\n",
       "      <th>A</th>\n",
       "      <td>Agilent Technologies</td>\n",
       "    </tr>\n",
       "    <tr>\n",
       "      <th>AA</th>\n",
       "      <td>Alcoa</td>\n",
       "    </tr>\n",
       "    <tr>\n",
       "      <th>AAC</th>\n",
       "      <td>Ares Acquisition</td>\n",
       "    </tr>\n",
       "    <tr>\n",
       "      <th>AACG</th>\n",
       "      <td>ATA Creativity Global</td>\n",
       "    </tr>\n",
       "    <tr>\n",
       "      <th>AACI</th>\n",
       "      <td>Armada Acquisition I</td>\n",
       "    </tr>\n",
       "    <tr>\n",
       "      <th>...</th>\n",
       "      <td>...</td>\n",
       "    </tr>\n",
       "    <tr>\n",
       "      <th>ZVSA</th>\n",
       "      <td>ZyVersa Therapeutics</td>\n",
       "    </tr>\n",
       "    <tr>\n",
       "      <th>ZWS</th>\n",
       "      <td>Zurn Elkay Water Solutions</td>\n",
       "    </tr>\n",
       "    <tr>\n",
       "      <th>ZYME</th>\n",
       "      <td>Zymeworks</td>\n",
       "    </tr>\n",
       "    <tr>\n",
       "      <th>ZYNE</th>\n",
       "      <td>Zynerba Pharmaceuticals</td>\n",
       "    </tr>\n",
       "    <tr>\n",
       "      <th>ZYXI</th>\n",
       "      <td>Zynex</td>\n",
       "    </tr>\n",
       "  </tbody>\n",
       "</table>\n",
       "<p>5814 rows × 1 columns</p>\n",
       "</div>"
      ],
      "text/plain": [
       "                      Company Name\n",
       "Symbol                            \n",
       "A             Agilent Technologies\n",
       "AA                           Alcoa\n",
       "AAC               Ares Acquisition\n",
       "AACG         ATA Creativity Global\n",
       "AACI          Armada Acquisition I\n",
       "...                            ...\n",
       "ZVSA          ZyVersa Therapeutics\n",
       "ZWS     Zurn Elkay Water Solutions\n",
       "ZYME                     Zymeworks\n",
       "ZYNE       Zynerba Pharmaceuticals\n",
       "ZYXI                         Zynex\n",
       "\n",
       "[5814 rows x 1 columns]"
      ]
     },
     "execution_count": 43,
     "metadata": {},
     "output_type": "execute_result"
    }
   ],
   "source": [
    "tickers = tickers.set_index(\"Symbol\")\n",
    "tickers"
   ]
  },
  {
   "cell_type": "code",
   "execution_count": 44,
   "id": "2309e5d2",
   "metadata": {},
   "outputs": [],
   "source": [
    "tickers.to_csv(\"ticker_list_refactored.csv\")"
   ]
  }
 ],
 "metadata": {
  "kernelspec": {
   "display_name": "venv",
   "language": "python",
   "name": "python3"
  },
  "language_info": {
   "codemirror_mode": {
    "name": "ipython",
    "version": 3
   },
   "file_extension": ".py",
   "mimetype": "text/x-python",
   "name": "python",
   "nbconvert_exporter": "python",
   "pygments_lexer": "ipython3",
   "version": "3.9.12"
  }
 },
 "nbformat": 4,
 "nbformat_minor": 5
}
