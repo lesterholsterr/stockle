{
 "cells": [
  {
   "cell_type": "code",
   "execution_count": 17,
   "id": "9605d226",
   "metadata": {},
   "outputs": [],
   "source": [
    "import yfinance as yf\n",
    "import pandas as pd\n",
    "import numpy as np"
   ]
  },
  {
   "cell_type": "code",
   "execution_count": 18,
   "id": "a41a1531",
   "metadata": {},
   "outputs": [
    {
     "data": {
      "text/plain": [
       "yfinance.Ticker object <META>"
      ]
     },
     "execution_count": 18,
     "metadata": {},
     "output_type": "execute_result"
    }
   ],
   "source": [
    "f = open(\"today.stock\")\n",
    "today_stock = yf.Ticker(f.readline().strip()) # .strip() removes surrounding whitespace\n",
    "today_stock"
   ]
  },
  {
   "cell_type": "code",
   "execution_count": 21,
   "id": "f7382a30",
   "metadata": {},
   "outputs": [],
   "source": [
    "hist = today_stock.history(period=\"max\").dropna() # .dropna() removes rows for dividend payments"
   ]
  },
  {
   "cell_type": "code",
   "execution_count": 22,
   "id": "c0730d7a",
   "metadata": {},
   "outputs": [],
   "source": [
    "hist.to_csv(\"stock_historical_data.csv\")"
   ]
  }
 ],
 "metadata": {
  "kernelspec": {
   "display_name": "Python 3 (ipykernel)",
   "language": "python",
   "name": "python3"
  },
  "language_info": {
   "codemirror_mode": {
    "name": "ipython",
    "version": 3
   },
   "file_extension": ".py",
   "mimetype": "text/x-python",
   "name": "python",
   "nbconvert_exporter": "python",
   "pygments_lexer": "ipython3",
   "version": "3.9.12"
  }
 },
 "nbformat": 4,
 "nbformat_minor": 5
}
